{
 "cells": [
  {
   "cell_type": "code",
   "execution_count": 4,
   "metadata": {},
   "outputs": [
    {
     "name": "stdout",
     "output_type": "stream",
     "text": [
      "These sctipts make gifs\n"
     ]
    }
   ],
   "source": [
    "import os\n",
    "import imageio\n",
    "\n",
    "#%prototype battlemech activate\n",
    "#%\n",
    "#%\n",
    "#%Brr\n",
    "#%\n",
    "#%Reactor... online\n",
    "#%Sensors... online\n",
    "#%Weapons... online\n",
    "#\n",
    "#%all systems nominal\n",
    "\n",
    "print('These sctipts make gifs')"
   ]
  },
  {
   "cell_type": "code",
   "execution_count": 6,
   "metadata": {},
   "outputs": [],
   "source": [
    "#make gif of all files in a directroy\n",
    "\n",
    "#This would be an input arguement\n",
    "png_dir = 'C:\\\\Users\\\\afiqAUT\\\\Desktop\\\\Astrophysics is the Bomb\\\\ridersOnTheSolarStorm\\\\20130124 - 26' #take from this directory\n",
    "images = []\n",
    "\n",
    "#learn to vectorize code\n",
    "#TODO: Write a script which finds file extension of the first file in the directory\n",
    "#      Then \n",
    "\n",
    "for file_name in os.listdir(png_dir):\n",
    "    if file_name.endswith('.jpg'): #if it ends with .png\n",
    "        file_path = os.path.join(png_dir, file_name)\n",
    "        images.append(imageio.imread(file_path))\n",
    "        \n",
    "imageio.mimsave('jan24-26MOVpt1.8.gif', images, duration = 0.25)"
   ]
  },
  {
   "cell_type": "code",
   "execution_count": 18,
   "metadata": {},
   "outputs": [
    {
     "ename": "TypeError",
     "evalue": "_open() got an unexpected keyword argument 'duration'",
     "output_type": "error",
     "traceback": [
      "\u001b[1;31m---------------------------------------------------------------------------\u001b[0m",
      "\u001b[1;31mTypeError\u001b[0m                                 Traceback (most recent call last)",
      "\u001b[1;32m<ipython-input-18-80e31f876322>\u001b[0m in \u001b[0;36m<module>\u001b[1;34m\u001b[0m\n\u001b[0;32m     17\u001b[0m                 \u001b[0mimages\u001b[0m\u001b[1;33m.\u001b[0m\u001b[0mappend\u001b[0m\u001b[1;33m(\u001b[0m\u001b[0mimageio\u001b[0m\u001b[1;33m.\u001b[0m\u001b[0mimread\u001b[0m\u001b[1;33m(\u001b[0m\u001b[0mfile_path\u001b[0m\u001b[1;33m)\u001b[0m\u001b[1;33m)\u001b[0m\u001b[1;33m\u001b[0m\u001b[1;33m\u001b[0m\u001b[0m\n\u001b[0;32m     18\u001b[0m \u001b[1;33m\u001b[0m\u001b[0m\n\u001b[1;32m---> 19\u001b[1;33m \u001b[0mimageio\u001b[0m\u001b[1;33m.\u001b[0m\u001b[0mmimsave\u001b[0m\u001b[1;33m(\u001b[0m\u001b[1;34m'longAssmp.mp4'\u001b[0m\u001b[1;33m,\u001b[0m \u001b[0mimages\u001b[0m\u001b[1;33m,\u001b[0m \u001b[0mduration\u001b[0m \u001b[1;33m=\u001b[0m \u001b[1;36m0.215\u001b[0m\u001b[1;33m)\u001b[0m\u001b[1;33m\u001b[0m\u001b[1;33m\u001b[0m\u001b[0m\n\u001b[0m",
      "\u001b[1;32m~\\Anaconda3\\lib\\site-packages\\imageio\\core\\functions.py\u001b[0m in \u001b[0;36mmimwrite\u001b[1;34m(uri, ims, format, **kwargs)\u001b[0m\n\u001b[0;32m    333\u001b[0m     \"\"\"\n\u001b[0;32m    334\u001b[0m     \u001b[1;31m# Get writer\u001b[0m\u001b[1;33m\u001b[0m\u001b[1;33m\u001b[0m\u001b[1;33m\u001b[0m\u001b[0m\n\u001b[1;32m--> 335\u001b[1;33m     \u001b[0mwriter\u001b[0m \u001b[1;33m=\u001b[0m \u001b[0mget_writer\u001b[0m\u001b[1;33m(\u001b[0m\u001b[0muri\u001b[0m\u001b[1;33m,\u001b[0m \u001b[0mformat\u001b[0m\u001b[1;33m,\u001b[0m \u001b[1;34m\"I\"\u001b[0m\u001b[1;33m,\u001b[0m \u001b[1;33m**\u001b[0m\u001b[0mkwargs\u001b[0m\u001b[1;33m)\u001b[0m\u001b[1;33m\u001b[0m\u001b[1;33m\u001b[0m\u001b[0m\n\u001b[0m\u001b[0;32m    336\u001b[0m     \u001b[0mwritten\u001b[0m \u001b[1;33m=\u001b[0m \u001b[1;36m0\u001b[0m\u001b[1;33m\u001b[0m\u001b[1;33m\u001b[0m\u001b[0m\n\u001b[0;32m    337\u001b[0m \u001b[1;33m\u001b[0m\u001b[0m\n",
      "\u001b[1;32m~\\Anaconda3\\lib\\site-packages\\imageio\\core\\functions.py\u001b[0m in \u001b[0;36mget_writer\u001b[1;34m(uri, format, mode, **kwargs)\u001b[0m\n\u001b[0;32m    185\u001b[0m \u001b[1;33m\u001b[0m\u001b[0m\n\u001b[0;32m    186\u001b[0m     \u001b[1;31m# Return its writer object\u001b[0m\u001b[1;33m\u001b[0m\u001b[1;33m\u001b[0m\u001b[1;33m\u001b[0m\u001b[0m\n\u001b[1;32m--> 187\u001b[1;33m     \u001b[1;32mreturn\u001b[0m \u001b[0mformat\u001b[0m\u001b[1;33m.\u001b[0m\u001b[0mget_writer\u001b[0m\u001b[1;33m(\u001b[0m\u001b[0mrequest\u001b[0m\u001b[1;33m)\u001b[0m\u001b[1;33m\u001b[0m\u001b[1;33m\u001b[0m\u001b[0m\n\u001b[0m\u001b[0;32m    188\u001b[0m \u001b[1;33m\u001b[0m\u001b[0m\n\u001b[0;32m    189\u001b[0m \u001b[1;33m\u001b[0m\u001b[0m\n",
      "\u001b[1;32m~\\Anaconda3\\lib\\site-packages\\imageio\\core\\format.py\u001b[0m in \u001b[0;36mget_writer\u001b[1;34m(self, request)\u001b[0m\n\u001b[0;32m    186\u001b[0m                 \u001b[1;34m\"Format %s cannot write in mode %r\"\u001b[0m \u001b[1;33m%\u001b[0m \u001b[1;33m(\u001b[0m\u001b[0mself\u001b[0m\u001b[1;33m.\u001b[0m\u001b[0mname\u001b[0m\u001b[1;33m,\u001b[0m \u001b[0mselect_mode\u001b[0m\u001b[1;33m)\u001b[0m\u001b[1;33m\u001b[0m\u001b[1;33m\u001b[0m\u001b[0m\n\u001b[0;32m    187\u001b[0m             )\n\u001b[1;32m--> 188\u001b[1;33m         \u001b[1;32mreturn\u001b[0m \u001b[0mself\u001b[0m\u001b[1;33m.\u001b[0m\u001b[0mWriter\u001b[0m\u001b[1;33m(\u001b[0m\u001b[0mself\u001b[0m\u001b[1;33m,\u001b[0m \u001b[0mrequest\u001b[0m\u001b[1;33m)\u001b[0m\u001b[1;33m\u001b[0m\u001b[1;33m\u001b[0m\u001b[0m\n\u001b[0m\u001b[0;32m    189\u001b[0m \u001b[1;33m\u001b[0m\u001b[0m\n\u001b[0;32m    190\u001b[0m     \u001b[1;32mdef\u001b[0m \u001b[0mcan_read\u001b[0m\u001b[1;33m(\u001b[0m\u001b[0mself\u001b[0m\u001b[1;33m,\u001b[0m \u001b[0mrequest\u001b[0m\u001b[1;33m)\u001b[0m\u001b[1;33m:\u001b[0m\u001b[1;33m\u001b[0m\u001b[1;33m\u001b[0m\u001b[0m\n",
      "\u001b[1;32m~\\Anaconda3\\lib\\site-packages\\imageio\\core\\format.py\u001b[0m in \u001b[0;36m__init__\u001b[1;34m(self, format, request)\u001b[0m\n\u001b[0;32m    222\u001b[0m             \u001b[0mself\u001b[0m\u001b[1;33m.\u001b[0m\u001b[0m_request\u001b[0m \u001b[1;33m=\u001b[0m \u001b[0mrequest\u001b[0m\u001b[1;33m\u001b[0m\u001b[1;33m\u001b[0m\u001b[0m\n\u001b[0;32m    223\u001b[0m             \u001b[1;31m# Open the reader/writer\u001b[0m\u001b[1;33m\u001b[0m\u001b[1;33m\u001b[0m\u001b[1;33m\u001b[0m\u001b[0m\n\u001b[1;32m--> 224\u001b[1;33m             \u001b[0mself\u001b[0m\u001b[1;33m.\u001b[0m\u001b[0m_open\u001b[0m\u001b[1;33m(\u001b[0m\u001b[1;33m**\u001b[0m\u001b[0mself\u001b[0m\u001b[1;33m.\u001b[0m\u001b[0mrequest\u001b[0m\u001b[1;33m.\u001b[0m\u001b[0mkwargs\u001b[0m\u001b[1;33m.\u001b[0m\u001b[0mcopy\u001b[0m\u001b[1;33m(\u001b[0m\u001b[1;33m)\u001b[0m\u001b[1;33m)\u001b[0m\u001b[1;33m\u001b[0m\u001b[1;33m\u001b[0m\u001b[0m\n\u001b[0m\u001b[0;32m    225\u001b[0m \u001b[1;33m\u001b[0m\u001b[0m\n\u001b[0;32m    226\u001b[0m         \u001b[1;33m@\u001b[0m\u001b[0mproperty\u001b[0m\u001b[1;33m\u001b[0m\u001b[1;33m\u001b[0m\u001b[0m\n",
      "\u001b[1;31mTypeError\u001b[0m: _open() got an unexpected keyword argument 'duration'"
     ]
    }
   ],
   "source": [
    "#I got hoes in multiple directory codes\n",
    "#you cant stich that many together\n",
    "jan21 = 'C:\\\\Users\\\\afiqAUT\\\\Desktop\\\\Astrophysics is the Bomb\\\\ridersOnTheSolarStorm\\\\20130121' #take from this directory\n",
    "jan2223 = 'C:\\\\Users\\\\afiqAUT\\\\Desktop\\\\Astrophysics is the Bomb\\\\ridersOnTheSolarStorm\\\\20130122 - 23'\n",
    "jan2426 = 'C:\\\\Users\\\\afiqAUT\\\\Desktop\\\\Astrophysics is the Bomb\\\\ridersOnTheSolarStorm\\\\20130124 - 25'\n",
    "jan2630 = 'C:\\\\Users\\\\afiqAUT\\\\Desktop\\\\Astrophysics is the Bomb\\\\ridersOnTheSolarStorm\\\\20130126 - 30'\n",
    "feb21 = 'C:\\\\Users\\\\afiqAUT\\\\Desktop\\\\Astrophysics is the Bomb\\\\ridersOnTheSolarStorm\\\\20130221'\n",
    "feb22 = 'C:\\\\Users\\\\afiqAUT\\\\Desktop\\\\Astrophysics is the Bomb\\\\ridersOnTheSolarStorm\\\\20130222'\n",
    "\n",
    "dirLst = [jan21,jan2223,jan2426, jan2630]\n",
    "images = []\n",
    "\n",
    "for fDir in dirLst:\n",
    "    for file_name in os.listdir(fDir):\n",
    "            if file_name.endswith('.jpg'): #if it ends with .png\n",
    "                file_path = os.path.join(fDir, file_name)\n",
    "                images.append(imageio.imread(file_path))\n",
    "\n",
    "imageio.mimsave('longAssmp.mp4', images, duration = 0.215)"
   ]
  },
  {
   "cell_type": "code",
   "execution_count": null,
   "metadata": {},
   "outputs": [],
   "source": []
  },
  {
   "cell_type": "code",
   "execution_count": 12,
   "metadata": {},
   "outputs": [],
   "source": []
  },
  {
   "cell_type": "code",
   "execution_count": null,
   "metadata": {},
   "outputs": [],
   "source": []
  },
  {
   "cell_type": "code",
   "execution_count": null,
   "metadata": {},
   "outputs": [],
   "source": [
    "png_dir = 'C:\\\\Users\\\\afiqAUT\\\\Desktop\\\\Astrophysics is the Bomb\\\\ridersOnTheSolarStorm\\\\machineMen\\\\imageLabel\\\\recip' #take from this directory\n",
    "images = []\n",
    "\n",
    "for file_name in os.listdir(png_dir):\n",
    "    if file_name.endswith('.png'): #if it ends with .png\n",
    "        file_path = os.path.join(png_dir, file_name)\n",
    "        #print(file_path)\n",
    "        images.append(imageio.imread(file_path))\n",
    "\n",
    "        \n",
    "images\n",
    "#sort away some stuff+\n",
    "#imageio.mimsave('trackedMOVpt4.gif', images, duration = 0.4)"
   ]
  },
  {
   "cell_type": "code",
   "execution_count": 17,
   "metadata": {},
   "outputs": [
    {
     "name": "stdout",
     "output_type": "stream",
     "text": [
      "00.jpg96 00\n"
     ]
    }
   ],
   "source": [
    "#PLS, rename Files NAW!\n",
    "\n",
    "\n",
    "import os\n",
    "\n",
    "#swDay = 'C:\\\\Users\\\\afiqAUT\\\\Desktop\\\\Astrophysics is the Bomb\\\\ridersOnTheSolarStorm\\\\20130404'\n",
    "\n",
    "\n",
    "#for t in range(0,97):\n",
    "filename = \"084.jpg\" + str(t) #Make this in full\n",
    "base = os.path.splitext(filename)[0] #base pf new file\n",
    "\n",
    "print(filename + \" \" + base)\n",
    "    \n",
    "#print(filename + \" \" + base)\n",
    "#os.rename(filename , base+str(t - 1) + \".png\")"
   ]
  },
  {
   "cell_type": "code",
   "execution_count": 34,
   "metadata": {},
   "outputs": [
    {
     "name": "stdout",
     "output_type": "stream",
     "text": [
      "00.jpg             00 .jpg\n"
     ]
    },
    {
     "ename": "FileNotFoundError",
     "evalue": "[WinError 2] The system cannot find the file specified: '00' -> '00.jpg'",
     "output_type": "error",
     "traceback": [
      "\u001b[1;31m---------------------------------------------------------------------------\u001b[0m",
      "\u001b[1;31mFileNotFoundError\u001b[0m                         Traceback (most recent call last)",
      "\u001b[1;32m<ipython-input-34-ef26e552f3f5>\u001b[0m in \u001b[0;36m<module>\u001b[1;34m\u001b[0m\n\u001b[0;32m      9\u001b[0m             \u001b[0mprint\u001b[0m\u001b[1;33m(\u001b[0m\u001b[0mfile_name\u001b[0m \u001b[1;33m+\u001b[0m \u001b[1;34m\"             \"\u001b[0m \u001b[1;33m+\u001b[0m \u001b[0mbase\u001b[0m\u001b[1;33m+\u001b[0m \u001b[1;34m\" \"\u001b[0m \u001b[1;33m+\u001b[0m \u001b[0mbase2\u001b[0m\u001b[1;33m)\u001b[0m\u001b[1;33m\u001b[0m\u001b[1;33m\u001b[0m\u001b[0m\n\u001b[0;32m     10\u001b[0m \u001b[1;33m\u001b[0m\u001b[0m\n\u001b[1;32m---> 11\u001b[1;33m             \u001b[0mos\u001b[0m\u001b[1;33m.\u001b[0m\u001b[0mrename\u001b[0m\u001b[1;33m(\u001b[0m\u001b[0mcount\u001b[0m\u001b[1;33m,\u001b[0m \u001b[0mfile_name\u001b[0m \u001b[1;33m)\u001b[0m\u001b[1;33m\u001b[0m\u001b[1;33m\u001b[0m\u001b[0m\n\u001b[0m\u001b[0;32m     12\u001b[0m             \u001b[1;31m#count = count + 1\u001b[0m\u001b[1;33m\u001b[0m\u001b[1;33m\u001b[0m\u001b[1;33m\u001b[0m\u001b[0m\n\u001b[0;32m     13\u001b[0m \u001b[1;33m\u001b[0m\u001b[0m\n",
      "\u001b[1;31mFileNotFoundError\u001b[0m: [WinError 2] The system cannot find the file specified: '00' -> '00.jpg'"
     ]
    }
   ],
   "source": [
    "png_dir = 'C:\\\\Users\\\\afiqAUT\\\\Desktop\\\\Astrophysics is the Bomb\\\\ridersOnTheSolarStorm\\\\allSuns'\n",
    "\n",
    "count = '00'\n",
    "\n",
    "for file_name in os.listdir(png_dir):\n",
    "    if file_name.endswith('.jpg'): #if it ends with gif\n",
    "            base = os.path.splitext(file_name)[0]\n",
    "            base2 = os.path.splitext(file_name)[1]\n",
    "            print(file_name + \"             \" + base+ \" \" + base2)\n",
    "            \n",
    "            os.rename(count, file_name )\n",
    "            #count = count + 1\n",
    "            \n",
    "            #print(os.path.join(png_dir, file_name))\n",
    "            #file_path = os.path.join(png_dir, file_name)\n",
    "            #images.append(imageio.imread(file_path))"
   ]
  },
  {
   "cell_type": "code",
   "execution_count": null,
   "metadata": {},
   "outputs": [],
   "source": []
  }
 ],
 "metadata": {
  "kernelspec": {
   "display_name": "Python 3",
   "language": "python",
   "name": "python3"
  },
  "language_info": {
   "codemirror_mode": {
    "name": "ipython",
    "version": 3
   },
   "file_extension": ".py",
   "mimetype": "text/x-python",
   "name": "python",
   "nbconvert_exporter": "python",
   "pygments_lexer": "ipython3",
   "version": "3.7.1"
  }
 },
 "nbformat": 4,
 "nbformat_minor": 2
}
