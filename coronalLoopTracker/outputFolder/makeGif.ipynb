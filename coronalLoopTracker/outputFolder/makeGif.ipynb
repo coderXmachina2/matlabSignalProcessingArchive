{
 "cells": [
  {
   "cell_type": "code",
   "execution_count": 1,
   "metadata": {},
   "outputs": [
    {
     "name": "stdout",
     "output_type": "stream",
     "text": [
      "These sctipts make gifs\n"
     ]
    }
   ],
   "source": [
    "import os\n",
    "import imageio\n",
    "\n",
    "#%prototype battlemech activate\n",
    "#%\n",
    "#%\n",
    "#%Brr\n",
    "#%\n",
    "#%Reactor... online\n",
    "#%Sensors... online\n",
    "#%Weapons... online\n",
    "#\n",
    "#%all systems nominal\n",
    "\n",
    "print('These sctipts make gifs')"
   ]
  },
  {
   "cell_type": "code",
   "execution_count": 3,
   "metadata": {},
   "outputs": [],
   "source": [
    "#make gif of all files in a directroy\n",
    "\n",
    "#This would be an input arguement\n",
    "png_dir = 'C:\\\\Users\\\\afiqAUT\\\\Desktop\\\\Astrophysics is the Bomb\\\\ridersOnTheSolarStorm\\\\machineMen\\\\imageLabel\\\\outputFolder' #take from this directory\n",
    "images = []\n",
    "\n",
    "#learn to vectorize code\n",
    "#TODO: Write a script which finds file extension of the first file in the directory\n",
    "#      Then \n",
    "\n",
    "for file_name in os.listdir(png_dir):\n",
    "    if file_name.endswith('.jpg'): #if it ends with .png\n",
    "        file_path = os.path.join(png_dir, file_name)\n",
    "        images.append(imageio.imread(file_path))\n",
    "        \n",
    "\n",
    "imageio.mimsave('combMOVpt1.gif', images, duration = 0.1)"
   ]
  },
  {
   "cell_type": "code",
   "execution_count": null,
   "metadata": {},
   "outputs": [],
   "source": []
  }
 ],
 "metadata": {
  "kernelspec": {
   "display_name": "Python 3",
   "language": "python",
   "name": "python3"
  },
  "language_info": {
   "codemirror_mode": {
    "name": "ipython",
    "version": 3
   },
   "file_extension": ".py",
   "mimetype": "text/x-python",
   "name": "python",
   "nbconvert_exporter": "python",
   "pygments_lexer": "ipython3",
   "version": "3.7.1"
  }
 },
 "nbformat": 4,
 "nbformat_minor": 2
}
